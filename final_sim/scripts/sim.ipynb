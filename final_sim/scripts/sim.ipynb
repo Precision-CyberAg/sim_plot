{
 "cells": [
  {
   "cell_type": "code",
   "execution_count": 84,
   "metadata": {},
   "outputs": [],
   "source": [
    "import subprocess\n",
    "\n",
    "def run_sim(simTime, appPeriod, nDevices, dataUpType, realisticModel, endDeviceType):\n",
    "    ns3_script = \"lora-device-classes-example\"\n",
    "\n",
    "    cmd_params = \" --endDeviceType=\"+f\"{endDeviceType}\"+\" --appPeriod=\"+f\"{appPeriod}\"+\" --simulationTime=\"+f\"{simTime}\"+\" --nDevices=\"+f\"{nDevices}\"+\" --dataUpType=\"+f\"{dataUpType}\"+\" --realisticModel=\"+f\"{realisticModel}\"\n",
    "\n",
    "    command = \"/home/adi/Workspace/ns-allinone-3.37/ns-3.37/ns3 run \"+ f'\"{ns3_script + cmd_params}\"'\n",
    "    print(command)\n",
    "    result=\"\"\n",
    "    try:\n",
    "        result = subprocess.run(command, shell=True, check=True, stdout=subprocess.PIPE, text=True).stdout.splitlines()[-1]\n",
    "    except subprocess.CalledProcessError as e:\n",
    "        print(f\"Error running script: {e}\")\n",
    "    \n",
    "    return result"
   ]
  },
  {
   "cell_type": "code",
   "execution_count": 85,
   "metadata": {},
   "outputs": [],
   "source": [
    "import smtplib\n",
    "from email.mime.text import MIMEText\n",
    "\n",
    "def send_email(subject, message, to):\n",
    "    try:\n",
    "        server = smtplib.SMTP('smtp.gmail.com', 587)\n",
    "        server.starttls()\n",
    "        server.login('phani.jsp@gmail.com', 'rkyq vvjd xtwh kfwx')\n",
    "        \n",
    "        msg = MIMEText(message)\n",
    "        msg['Subject'] = subject\n",
    "        msg['From'] = 'vlad@Castlevania.com'\n",
    "        msg['To'] = to\n",
    "        \n",
    "        server.sendmail('vlad@Castlevania', to, msg.as_string())\n",
    "        server.quit()\n",
    "        print('Successfully sent email to %s:' % (to))\n",
    "    except Exception as e:\n",
    "        print('Failed to send email to %s:' % (to))\n",
    "        print(e)"
   ]
  },
  {
   "cell_type": "code",
   "execution_count": 86,
   "metadata": {},
   "outputs": [],
   "source": [
    "import numpy as np\n",
    "\n",
    "def devices_log_list():\n",
    "    initial_value = 1\n",
    "    #Lambda value 5, corresponds to almost 500 devices at current app period of 120\n",
    "    final_value = 7500\n",
    "    num_points = 40\n",
    "    log_values = np.logspace(np.log10(initial_value), np.log10(final_value), num=num_points)\n",
    "    # log_values = np.linspace(initial_value, final_value, num=num_points)\n",
    "    return log_values"
   ]
  },
  {
   "cell_type": "code",
   "execution_count": 87,
   "metadata": {},
   "outputs": [],
   "source": [
    "# for i  in devices_log_list():\n",
    "#     print(max(1,round(i)))\n"
   ]
  },
  {
   "cell_type": "code",
   "execution_count": 88,
   "metadata": {},
   "outputs": [],
   "source": [
    "import concurrent.futures\n",
    "import json\n",
    "import math\n",
    "from IPython.display import clear_output\n",
    "\n",
    "def run_scenario(traffic_type, realistic_model, device_class, scenario_name):\n",
    "    \n",
    "    simTime = 4000\n",
    "    appPeriod = 1200\n",
    "    data_all = []\n",
    "    futures = []\n",
    "\n",
    "    with concurrent.futures.ThreadPoolExecutor() as executor:\n",
    "\n",
    "        deviceLogIter = devices_log_list()\n",
    "        for i in deviceLogIter:\n",
    "            deviceCount = max(1,round(i))\n",
    "            print(scenario_name+\", Simualtion with device count: \"+str(deviceCount))\n",
    "            future = executor.submit(run_sim, simTime, appPeriod, deviceCount, traffic_type, realistic_model, device_class)\n",
    "            futures.append(future)\n",
    "\n",
    "\n",
    "\n",
    "    for future in futures:\n",
    "        data = json.loads(future.result())\n",
    "        if float(data[\"ULPDR\"][\"Total\"])>0:\n",
    "            data_all.append(data)\n",
    "            print(str(float(data[\"ULPDR\"][\"Success\"])/float(data[\"ULPDR\"][\"Total\"]))+\" L: \"+str(float(data[\"ULPDR\"][\"Total\"])/float(simTime)))\n",
    "        \n",
    "\n",
    "    with open(scenario_name, 'w') as f:\n",
    "        json.dump(data_all, f)\n",
    "        clear_output(wait=True)"
   ]
  },
  {
   "cell_type": "code",
   "execution_count": 89,
   "metadata": {},
   "outputs": [],
   "source": [
    "import threading\n",
    "\n",
    "threads = []\n",
    "threads.append(threading.Thread(target=run_scenario,args=(0, False, 'A', \"ULPDR_UNCONFIRMED_A\")))\n",
    "threads.append(threading.Thread(target=run_scenario,args=(1, False, 'A', \"ULPDR_CONFIRMED_A\")))\n",
    "threads.append(threading.Thread(target=run_scenario,args=(2, False, 'A', \"ULPDR_MIXED_A\")))"
   ]
  },
  {
   "cell_type": "code",
   "execution_count": 90,
   "metadata": {},
   "outputs": [],
   "source": [
    "\n",
    "threads.append(threading.Thread(target=run_scenario,args=(0, False, 'B', \"ULPDR_UNCONFIRMED_B\")))\n",
    "threads.append(threading.Thread(target=run_scenario,args=(1, False, 'B', \"ULPDR_CONFIRMED_B\")))\n",
    "threads.append(threading.Thread(target=run_scenario,args=(2, False, 'B', \"ULPDR_MIXED_B\")))\n"
   ]
  },
  {
   "cell_type": "code",
   "execution_count": 91,
   "metadata": {},
   "outputs": [],
   "source": [
    "\n",
    "threads.append(threading.Thread(target=run_scenario,args=(0, False, 'C', \"ULPDR_UNCONFIRMED_C\")))\n",
    "threads.append(threading.Thread(target=run_scenario,args=(1, False, 'C', \"ULPDR_CONFIRMED_C\")))\n",
    "threads.append(threading.Thread(target=run_scenario,args=(2, False, 'C', \"ULPDR_MIXED_C\")))\n"
   ]
  },
  {
   "cell_type": "code",
   "execution_count": 92,
   "metadata": {},
   "outputs": [
    {
     "name": "stdout",
     "output_type": "stream",
     "text": [
      "48556.181051015854\n",
      "Successfully sent email to aditya.jagatha@trojans.dsu.edu:\n"
     ]
    }
   ],
   "source": [
    "import time\n",
    "start_time = time.time()\n",
    "for thread in threads:\n",
    "    thread.start()\n",
    "\n",
    "for thread in threads:\n",
    "    thread.join()\n",
    "end_time = time.time()\n",
    "\n",
    "elapsed_time = end_time - start_time\n",
    "print(elapsed_time)\n",
    "send_email('[IMP] Sim Plot Run Status', \"Simulation complete!.\\nTotal run time: {:.6f} seconds.\\nPlease check the results on your vm.\\n\\nThank you,\\nVlad\".format(elapsed_time), 'aditya.jagatha@trojans.dsu.edu')"
   ]
  }
 ],
 "metadata": {
  "kernelspec": {
   "display_name": "Python 3",
   "language": "python",
   "name": "python3"
  },
  "language_info": {
   "codemirror_mode": {
    "name": "ipython",
    "version": 3
   },
   "file_extension": ".py",
   "mimetype": "text/x-python",
   "name": "python",
   "nbconvert_exporter": "python",
   "pygments_lexer": "ipython3",
   "version": "3.10.12"
  }
 },
 "nbformat": 4,
 "nbformat_minor": 2
}
